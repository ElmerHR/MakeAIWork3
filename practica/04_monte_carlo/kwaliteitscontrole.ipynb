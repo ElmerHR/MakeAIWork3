{
 "cells": [
  {
   "attachments": {},
   "cell_type": "markdown",
   "id": "4bdbdeaa-79d8-416d-91b6-0566f3f2eaf4",
   "metadata": {
    "tags": []
   },
   "source": [
    "# Statistische kwaliteitscontrole"
   ]
  },
  {
   "attachments": {},
   "cell_type": "markdown",
   "id": "64960ef1-4dce-4f48-b69f-fc48178fdc2c",
   "metadata": {},
   "source": [
    "![quality](quality.jpg)"
   ]
  },
  {
   "attachments": {},
   "cell_type": "markdown",
   "id": "d1af3142-d8be-4a22-a21b-d058fae53330",
   "metadata": {},
   "source": [
    "## Situatie\n",
    "\n",
    "De firma Glow BV produceert lampen.\n",
    "\n",
    "- Bekend is dat **2%** van de productie defecten bevat\n",
    "- De dagproductie bestaat uit **75.000 lampen**"
   ]
  },
  {
   "attachments": {},
   "cell_type": "markdown",
   "id": "3ad208d3-066d-4c7e-a4c7-8456202b308d",
   "metadata": {},
   "source": [
    "## Opdracht\n",
    "\n",
    "- Onderzoek hoeveel kapotte lampen je tegenkomt als je **25 lampen** uit de totale dagproductie inspecteert\n",
    "- Voer de inspectie **10 maal** uit\n",
    "- Maak een kort overzicht van je bevindingen (in Excel, met MatplotLib of met print-statements)\n",
    "\n",
    "Begin met de analyse hieronder."
   ]
  },
  {
   "attachments": {},
   "cell_type": "markdown",
   "id": "861d9c5f-0d6d-4f1c-ba69-531d3c632cfe",
   "metadata": {},
   "source": [
    "## Stap 1: analyseren\n",
    "\n",
    "- Bedenk hoe je de productie en de productiefout simuleert (zie stap 2 voor een hint)\n",
    "- Bedenk hoe het inspectieproces verloopt\n",
    "\n",
    "**Hint**: zitten er functies in de [random module](https://www.w3schools.com/python/module_random.asp) die passen bij deze opdracht?"
   ]
  },
  {
   "attachments": {},
   "cell_type": "markdown",
   "id": "61577874-6ad0-4406-b49c-bfe83337d3d5",
   "metadata": {},
   "source": [
    "## Stap 2: schetsen\n",
    "\n",
    "Werk op basis van je analyse stapsgewijs een oplossing uit, bijvoorbeeld:"
   ]
  },
  {
   "cell_type": "code",
   "execution_count": 1,
   "id": "397f1676-3852-41ea-b367-77520ef2e2c2",
   "metadata": {},
   "outputs": [
    {
     "name": "stdout",
     "output_type": "stream",
     "text": [
      "Lamps working: 73500\n",
      "Lamps defect: 1500\n",
      "Percentage of lamps defect: 2.00%\n"
     ]
    }
   ],
   "source": [
    "import random\n",
    "\n",
    "# 1. Genereer een lijst met functionele lampen (hoeveel?)\n",
    "day_production_amount = 75_000\n",
    "lamps = [\"working\"] * day_production_amount\n",
    "\n",
    "\n",
    "# 2. Vul de lijst aan met defecte lampen (hoeveel?)\n",
    "for i in random.sample(range(day_production_amount), int(0.02*day_production_amount)):\n",
    "    lamps[i] = \"defect\"\n",
    "\n",
    "print(f\"Lamps working: {lamps.count('working')}\")\n",
    "print(f\"Lamps defect: {lamps.count('defect')}\")\n",
    "print(f\"Percentage of lamps defect: {(lamps.count('defect')/len(lamps)):.2%}\")"
   ]
  },
  {
   "attachments": {},
   "cell_type": "markdown",
   "id": "37923139-5fbd-4575-ab9b-72ad309b50be",
   "metadata": {},
   "source": [
    "- Als bovenstaande niet lukt dan zal het implementeren ook niet lukken...\n",
    "- Vraag om hulp, maar oefen eerst met het uitwerken van een oplossing"
   ]
  },
  {
   "attachments": {},
   "cell_type": "markdown",
   "id": "03440dea-9b95-4b92-9d89-8385dbad8ebe",
   "metadata": {},
   "source": [
    "## Stap 3: implementeren\n",
    "\n",
    "- Werk de bovenstaande schets stap voor stap uit\n",
    "- Begin pas met implementeren als de schets klopt"
   ]
  },
  {
   "cell_type": "code",
   "execution_count": 2,
   "id": "ac97b428-2e7f-4088-a0c1-a83f619802e0",
   "metadata": {},
   "outputs": [
    {
     "name": "stdout",
     "output_type": "stream",
     "text": [
      "List of defect percentages: [0.08, 0.0, 0.0, 0.0, 0.0, 0.04, 0.04, 0.0, 0.08, 0.0]\n",
      "Mean: 0.024\n"
     ]
    }
   ],
   "source": [
    "# Stappenplan schets\n",
    "# 1. lijst creeren met alle geproduceerde lampen voor 1 dag\n",
    "# 2. willekeurig 25 samples nemen uit de lijst zonder teruglegging\n",
    "# 3. registreer van elke sample of de lamp defect is of niet\n",
    "# 4. bereken het totaal aantal defecte lampen tov het totaal aantal lampen\n",
    "\n",
    "# Herhaal bovenstaande 10 maal en vergelijk de resultaten\n",
    "\n",
    "percentage_defect = []\n",
    "# Implementatie\n",
    "for i in range(10):\n",
    "    # get 25 samples from population\n",
    "    samples = random.sample(lamps, 25)\n",
    "    # count number of defect lamps\n",
    "    n_defect = samples.count('defect')\n",
    "    # add number of defects to list\n",
    "    percentage_defect.append(n_defect/len(samples))\n",
    "\n",
    "print(f\"List of defect percentages: {percentage_defect}\")\n",
    "print(f\"Mean: {sum(percentage_defect)/len(percentage_defect)}\")\n"
   ]
  },
  {
   "attachments": {},
   "cell_type": "markdown",
   "id": "5000db0d-561e-4cd8-9870-201de800bc5a",
   "metadata": {},
   "source": [
    "## Stap 4: reflecteren\n",
    "\n",
    "1. (a) Komt het gemiddelde van je inspectie overeen met de daadwerkelijke productiefout?\n",
    "\n",
    "   Nee daarvoor zijn er te weinig samples\n",
    "\n",
    "   (b) Zo nee: hoeveel inspecties moet je dan doen om in de buurt te komen van de 2%?\n",
    "\n",
    "   50 samples\n",
    "\n",
    "2. (a) Is het verstandig om kosten te drukken en maar 5 inspecties uit te voeren?\n",
    "      Nee de variantie neemt dan erg toe\n",
    "\n",
    "   (b) Of per inspectie slechts 15 lampen te onderzoeken?\n",
    "   Nee, want ook dan neemt de variantie toe\n",
    "\n",
    "3. (a) Maakt het uit of je de lampen na inspectie terugstopt in de batch?\n",
    "\n",
    "   Ja dat maakt uit, de kans op een defecte of niet-defecte lamp te trekken is bij elke trekking hetzelfde bij terugstoppen. Dit veranderd het percentage defecte lampen.\n",
    "\n",
    "   (b) Kun je dit aantonen met je simulatie?\n",
    "   Zie hieronder."
   ]
  },
  {
   "cell_type": "code",
   "execution_count": 3,
   "id": "02ca0d82-1022-497f-b570-9e6126f95e4f",
   "metadata": {
    "tags": []
   },
   "outputs": [
    {
     "name": "stdout",
     "output_type": "stream",
     "text": [
      "List of defect percentages: [0.0, 0.04, 0.04, 0.0, 0.0, 0.04, 0.04, 0.0, 0.04, 0.04]\n",
      "Mean without replacement: 0.024\n",
      "List of defect percentages: [0.0, 0.0, 0.0, 0.0, 0.04, 0.04, 0.0, 0.0, 0.04, 0.04]\n",
      "Mean with replacement: 0.016\n"
     ]
    }
   ],
   "source": [
    "# Bewijs / uitwerkingen\n",
    "\n",
    "# with and without replacement implementation\n",
    "\n",
    "percentage_defect_without_replacement = []\n",
    "# Implementatie\n",
    "for i in range(10):\n",
    "    samples = random.sample(lamps, 25)\n",
    "    n_defect = samples.count('defect')\n",
    "    percentage_defect_without_replacement.append(n_defect/len(samples))\n",
    "\n",
    "print(f\"List of defect percentages: {percentage_defect_without_replacement}\")\n",
    "print(f\"Mean without replacement: {sum(percentage_defect_without_replacement)/len(percentage_defect_without_replacement)}\")\n",
    "\n",
    "percentage_defect_with_replacement = []\n",
    "# Implementatie\n",
    "for i in range(10):\n",
    "    samples = random.choices(lamps, k=25)\n",
    "    n_defect = samples.count('defect')\n",
    "    percentage_defect_with_replacement.append(n_defect/len(samples))\n",
    "\n",
    "print(f\"List of defect percentages: {percentage_defect_with_replacement}\")\n",
    "print(f\"Mean with replacement: {sum(percentage_defect_with_replacement)/len(percentage_defect_with_replacement)}\")"
   ]
  },
  {
   "attachments": {},
   "cell_type": "markdown",
   "id": "324c2c27-f28e-4da5-8d5e-6f06962d04aa",
   "metadata": {},
   "source": [
    "## Extra: variatie in productiefout\n",
    "\n",
    "De aanname is dat 2% van de productie defecten bevat, maar dit is slechts een **gemiddelde** is. Soms is het 3% dan weer 2% of zelfs 5%. De productiefout hangt namelijk weer af van de productiefout in de onderdelen waaruit de lamp is opgebouwd.\n",
    "\n",
    "- Breid je model uit waarin je de productiefout laat varieren met 1%\n",
    "- Maak dit voor de inspectie uit?"
   ]
  },
  {
   "cell_type": "code",
   "execution_count": 4,
   "id": "061c9628-0244-4787-930e-0272c943caab",
   "metadata": {
    "tags": []
   },
   "outputs": [
    {
     "name": "stdout",
     "output_type": "stream",
     "text": [
      "Production error percentage: 1.00%\n",
      "List of defect percentages: [0.025, 0.0, 0.0, 0.025, 0.05, 0.0, 0.025, 0.0, 0.0, 0.05, 0.025, 0.0, 0.025, 0.025, 0.0, 0.0, 0.0, 0.0, 0.0, 0.0]\n",
      "Mean: 0.012499999999999999\n",
      "Production error percentage: 2.00%\n",
      "List of defect percentages: [0.075, 0.0, 0.05, 0.0, 0.05, 0.05, 0.0, 0.0, 0.0, 0.025, 0.025, 0.0, 0.025, 0.025, 0.025, 0.0, 0.025, 0.05, 0.025, 0.0]\n",
      "Mean: 0.022500000000000003\n",
      "Production error percentage: 3.00%\n",
      "List of defect percentages: [0.025, 0.0, 0.0, 0.0, 0.05, 0.05, 0.075, 0.025, 0.075, 0.025, 0.025, 0.05, 0.0, 0.0, 0.025, 0.05, 0.025, 0.025, 0.025, 0.0]\n",
      "Mean: 0.027500000000000004\n"
     ]
    }
   ],
   "source": [
    "day_production_amount = 75_000\n",
    "\n",
    "# three different production error rates\n",
    "production_error_rate = [0.01, 0.02, 0.03]\n",
    "\n",
    "for k in production_error_rate:\n",
    "    lamps = [\"working\"] * day_production_amount\n",
    "    for i in random.sample(range(day_production_amount), int(k*day_production_amount)):\n",
    "        lamps[i] = \"defect\"\n",
    "    \n",
    "    percentage_defect = []\n",
    "    # Implementatie\n",
    "    for i in range(20):\n",
    "        samples = random.sample(lamps, 40)\n",
    "        n_defect = samples.count('defect')\n",
    "        percentage_defect.append(n_defect/len(samples))\n",
    "\n",
    "    print(f\"Production error percentage: {k:.2%}\")\n",
    "    print(f\"List of defect percentages: {percentage_defect}\")\n",
    "    print(f\"Mean: {sum(percentage_defect)/len(percentage_defect)}\")\n",
    "        "
   ]
  },
  {
   "attachments": {},
   "cell_type": "markdown",
   "id": "a5de8e30-2e28-4896-98af-be1471aecaf5",
   "metadata": {},
   "source": [
    "## Extra: Bayesiaanse statistiek\n",
    "\n",
    "In de bijlage vind je een csv bestand met daarin een onbekend aantal lampen waarvan er een aantal stuk zijn.\n",
    "\n",
    "1. Lees het bestand in en achterhaal met een aantal inspecties wat het percentage defecte lampen moet zijn\n",
    "\n",
    "2. Controleer daarna of dit juist was door de totale lijst met lampen te analyseren\n",
    "\n",
    "Bovenstaande is een voorbeeld van Baysiaanse statistiek."
   ]
  },
  {
   "cell_type": "code",
   "execution_count": 10,
   "id": "7229fd39",
   "metadata": {},
   "outputs": [
    {
     "name": "stdout",
     "output_type": "stream",
     "text": [
      "List of defect percentages: [0.0, 0.04, 0.04, 0.0, 0.0, 0.04, 0.04, 0.0, 0.04, 0.04, 0.267, 0.2616, 0.2602, 0.265, 0.2592, 0.2606, 0.2656, 0.261, 0.2586, 0.256, 0.2578, 0.2744, 0.2652, 0.2576, 0.2744, 0.2592, 0.2608, 0.2608, 0.2626, 0.2586, 0.2568, 0.2562, 0.2608, 0.2592, 0.258, 0.2714, 0.2548, 0.2562, 0.2578, 0.2556, 0.2548, 0.2634, 0.257, 0.2526, 0.2514, 0.25, 0.2626, 0.251, 0.2712, 0.2696, 0.2694, 0.258, 0.2538, 0.2582, 0.265, 0.2546, 0.2644, 0.2566, 0.2592, 0.2632, 0.2684, 0.2772, 0.2684, 0.2628, 0.261, 0.2612, 0.261, 0.2662, 0.259, 0.261, 0.2618, 0.253, 0.268, 0.2568, 0.267, 0.2644, 0.2592, 0.2606, 0.253, 0.2546, 0.2702, 0.266, 0.266, 0.2638, 0.251, 0.2654, 0.2574, 0.2604, 0.2716, 0.268, 0.2586, 0.27, 0.2664, 0.2542, 0.2646, 0.2556, 0.2544, 0.2568, 0.2606, 0.2688, 0.2646, 0.2574, 0.264, 0.267, 0.2658, 0.2596, 0.2662, 0.264, 0.2658, 0.253, 0.26, 0.2624, 0.2664, 0.275, 0.2594, 0.251, 0.263, 0.26, 0.2568, 0.2574, 0.2614, 0.2486, 0.259, 0.2584, 0.2558, 0.2614, 0.2582, 0.2574, 0.2572, 0.2678, 0.2742, 0.252, 0.2568, 0.2648, 0.2548, 0.266, 0.256, 0.2572, 0.2566, 0.26, 0.2642, 0.2538, 0.2478, 0.271, 0.258, 0.2688, 0.269, 0.2526, 0.2588, 0.255, 0.2692, 0.2504, 0.2584, 0.2592, 0.2556, 0.2732, 0.2626, 0.2536, 0.2584, 0.2524, 0.256, 0.2622, 0.2612, 0.267, 0.256, 0.2672, 0.2588, 0.2614, 0.2558, 0.2678, 0.269, 0.2594, 0.2564, 0.2524, 0.2752, 0.2564, 0.2614, 0.2654, 0.2608, 0.266, 0.2514, 0.2724, 0.2662, 0.2612, 0.2532, 0.2536, 0.2664, 0.2574, 0.268, 0.2582, 0.2644, 0.267, 0.2692, 0.253, 0.2658, 0.2614, 0.2602, 0.2464, 0.2606, 0.2632, 0.2552, 0.2636, 0.2566, 0.2612, 0.2546, 0.2616, 0.263, 0.2668, 0.2604, 0.2574, 0.22, 0.2, 0.34, 0.18, 0.18, 0.28, 0.38, 0.24, 0.28, 0.24, 0.28, 0.22, 0.24, 0.26, 0.28, 0.36, 0.3, 0.16, 0.4, 0.26, 0.24, 0.26, 0.34, 0.3, 0.2, 0.2, 0.2, 0.28, 0.2, 0.24, 0.44, 0.24, 0.4, 0.2, 0.28, 0.2, 0.32, 0.4, 0.2, 0.16, 0.12, 0.2, 0.32, 0.28, 0.2, 0.24, 0.2, 0.4, 0.2, 0.24, 0.32, 0.4, 0.32, 0.24, 0.24, 0.16, 0.36, 0.24, 0.24, 0.32]\n",
      "Mean without replacement: 0.2528266666666666\n"
     ]
    }
   ],
   "source": [
    "import pandas as pd\n",
    "\n",
    "# read batch file\n",
    "batch = pd.read_csv('./batch.csv')\n",
    "\n",
    "for i in range(10):\n",
    "    # convert batch to list and pick 25 samples\n",
    "    samples = random.sample(batch['0'].tolist(), 25)\n",
    "    # check if sample == 0 ==> defect\n",
    "    n_defect = samples.count(0)\n",
    "    percentage_defect_without_replacement.append(n_defect/len(samples))\n",
    "\n",
    "print(f\"List of defect percentages: {percentage_defect_without_replacement}\")\n",
    "print(f\"Mean without replacement: {sum(percentage_defect_without_replacement)/len(percentage_defect_without_replacement)}\")"
   ]
  },
  {
   "cell_type": "code",
   "execution_count": 11,
   "id": "1c6867ca",
   "metadata": {},
   "outputs": [
    {
     "data": {
      "text/plain": [
       "0.2604861935052242"
      ]
     },
     "execution_count": 11,
     "metadata": {},
     "output_type": "execute_result"
    }
   ],
   "source": [
    "# real production error rate\n",
    "batch.value_counts()[0]/len(batch)"
   ]
  },
  {
   "cell_type": "code",
   "execution_count": null,
   "id": "d21513c3",
   "metadata": {},
   "outputs": [],
   "source": []
  }
 ],
 "metadata": {
  "kernelspec": {
   "display_name": "Python 3 (ipykernel)",
   "language": "python",
   "name": "python3"
  },
  "language_info": {
   "codemirror_mode": {
    "name": "ipython",
    "version": 3
   },
   "file_extension": ".py",
   "mimetype": "text/x-python",
   "name": "python",
   "nbconvert_exporter": "python",
   "pygments_lexer": "ipython3",
   "version": "3.10.8"
  },
  "toc-showcode": false,
  "toc-showmarkdowntxt": false
 },
 "nbformat": 4,
 "nbformat_minor": 5
}
