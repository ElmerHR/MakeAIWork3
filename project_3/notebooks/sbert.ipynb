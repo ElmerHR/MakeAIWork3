{
  "cells": [
    {
      "cell_type": "code",
      "execution_count": 3,
      "metadata": {
        "id": "GHCsNQOGTqx8"
      },
      "outputs": [
        {
          "name": "stdout",
          "output_type": "stream",
          "text": [
            "Similarity: London is known for its finacial district\n"
          ]
        }
      ],
      "source": [
        "import warnings\n",
        "\n",
        "from sentence_transformers import SentenceTransformer, util\n",
        "\n",
        "warnings.filterwarnings(\"ignore\")\n",
        "\n",
        "model = SentenceTransformer('all-MiniLM-L12-v2')\n",
        "\n",
        "embeddings = [\n",
        "                'London has 9,787,426 inhabitants at the 2011 census',\n",
        "                'London is known for its financial district',\n",
        "                'London is 500 square kilometers',\n",
        "                'The quality of this batch is very bad'\n",
        "            ]\n",
        "\n",
        "query_embedding = model.encode(input('What is your question?'))\n",
        "passage_embedding = model.encode(embeddings)\n",
        "\n",
        "answer = util.dot_score(query_embedding, passage_embedding)\n",
        "print(\"Similarity:\", embeddings[answer.argmax()])"
      ]
    },
    {
      "cell_type": "code",
      "execution_count": null,
      "metadata": {},
      "outputs": [],
      "source": []
    }
  ],
  "metadata": {
    "colab": {
      "provenance": []
    },
    "kernelspec": {
      "display_name": "Python 3",
      "name": "python3"
    },
    "language_info": {
      "codemirror_mode": {
        "name": "ipython",
        "version": 3
      },
      "file_extension": ".py",
      "mimetype": "text/x-python",
      "name": "python",
      "nbconvert_exporter": "python",
      "pygments_lexer": "ipython3",
      "version": "3.10.8"
    }
  },
  "nbformat": 4,
  "nbformat_minor": 0
}
