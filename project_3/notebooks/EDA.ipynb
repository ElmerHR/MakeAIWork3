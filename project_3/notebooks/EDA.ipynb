{
 "cells": [
  {
   "cell_type": "code",
   "execution_count": 1,
   "metadata": {},
   "outputs": [],
   "source": [
    "import os\n",
    "from PIL import Image\n",
    "\n",
    "from glob import glob\n",
    "dirs = glob('../apple_disease_classification/original/Train/**/*.*', recursive=True)\n"
   ]
  },
  {
   "cell_type": "code",
   "execution_count": 2,
   "metadata": {},
   "outputs": [
    {
     "name": "stdout",
     "output_type": "stream",
     "text": [
      "The min and max height of all images is respectively 100 pixels and 2112 pixels\n",
      "The min and max width of all images is respectively 100 pixels and 2816 pixels\n"
     ]
    }
   ],
   "source": [
    "image_sizes_height = []\n",
    "image_sizes_width = []\n",
    "for dir in dirs:\n",
    "    file, ext = os.path.splitext(dir)\n",
    "    im = Image.open(dir)\n",
    "    # print(file, im.size)\n",
    "    image_sizes_height.append(im.size[0])\n",
    "    image_sizes_width.append(im.size[1])\n",
    "\n",
    "print(f\"The min and max height of all images is respectively {min(image_sizes_height)} pixels and {max(image_sizes_height)} pixels\")\n",
    "print(f\"The min and max width of all images is respectively {min(image_sizes_width)} pixels and {max(image_sizes_width)} pixels\")"
   ]
  },
  {
   "attachments": {},
   "cell_type": "markdown",
   "metadata": {},
   "source": [
    "## Rename files"
   ]
  },
  {
   "cell_type": "code",
   "execution_count": 3,
   "metadata": {},
   "outputs": [],
   "source": [
    "import os\n",
    "import shutil\n",
    "\n",
    "\n",
    "# Function to copy multiple files with new name\n",
    "\n",
    "original_path_train = '/home/elmer/dev_debian/working/python3/MakeAIWork3/project_3/preprocessing/bb_david/images/train'\n",
    "original_path_test = '/home/elmer/dev_debian/working/python3/MakeAIWork3/project_3/preprocessing/bb_david/images/test'\n",
    "new_path_train = '/home/elmer/dev_debian/working/python3/MakeAIWork3/project_3/preprocessing/renamed_files/train'\n",
    "new_path_test = '/home/elmer/dev_debian/working/python3/MakeAIWork3/project_3/preprocessing/renamed_files/test'\n",
    "\n",
    "# put paths in lists to loop over\n",
    "orig_paths = [original_path_train, original_path_test]\n",
    "new_paths = [new_path_train, new_path_test]\n",
    "\n",
    "# copy files\n",
    "for i, orig_path in enumerate(orig_paths):\n",
    "    for dir in os.listdir(orig_path):\n",
    "        for j, filename in enumerate(os.listdir(os.path.join(orig_path,dir))):\n",
    "            if os.path.splitext(filename)[-1] == '.jpg':\n",
    "                new_file_name_img = dir + '_' + str(j) + \".jpg\"\n",
    "                new_file_name_xml = dir + '_' + str(j) + \".xml\"\n",
    "                src_img = os.path.join(orig_path, dir, filename)\n",
    "                dst_img = os.path.join(new_paths[i], new_file_name_img)\n",
    "                filename_xml = filename[:-4] + '.xml'\n",
    "                src_xml = os.path.join(orig_path, dir, filename_xml)\n",
    "                dst_xml = os.path.join(new_paths[i], new_file_name_xml)\n",
    "                # print(src_img)\n",
    "                # print(dst_img)\n",
    "                # print(src_xml)\n",
    "                # print(dst_xml)\n",
    "                # copy files\n",
    "                shutil.copyfile(src_img, dst_img)\n",
    "                shutil.copyfile(src_xml, dst_xml)"
   ]
  }
 ],
 "metadata": {
  "kernelspec": {
   "display_name": "miw",
   "language": "python",
   "name": "python3"
  },
  "language_info": {
   "codemirror_mode": {
    "name": "ipython",
    "version": 3
   },
   "file_extension": ".py",
   "mimetype": "text/x-python",
   "name": "python",
   "nbconvert_exporter": "python",
   "pygments_lexer": "ipython3",
   "version": "3.10.8"
  },
  "orig_nbformat": 4
 },
 "nbformat": 4,
 "nbformat_minor": 2
}
